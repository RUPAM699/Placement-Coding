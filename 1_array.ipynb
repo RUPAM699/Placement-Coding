{
 "cells": [
  {
   "cell_type": "code",
   "execution_count": 4,
   "metadata": {},
   "outputs": [
    {
     "name": "stdout",
     "output_type": "stream",
     "text": [
      "4\n"
     ]
    }
   ],
   "source": [
    "def sunset_view(arr):\n",
    "    mx = arr[0]\n",
    "    count  = 1\n",
    "    for i in range(len(arr)):\n",
    "        if (arr[i]>mx):\n",
    "            count+=1\n",
    "            mx = arr[i]\n",
    "    print(count)\n",
    "arr = [12,15,26,21,13,11,27]\n",
    "sunset_view(arr) "
   ]
  }
 ],
 "metadata": {
  "kernelspec": {
   "display_name": "Python 3",
   "language": "python",
   "name": "python3"
  },
  "language_info": {
   "codemirror_mode": {
    "name": "ipython",
    "version": 3
   },
   "file_extension": ".py",
   "mimetype": "text/x-python",
   "name": "python",
   "nbconvert_exporter": "python",
   "pygments_lexer": "ipython3",
   "version": "3.12.6"
  }
 },
 "nbformat": 4,
 "nbformat_minor": 2
}
