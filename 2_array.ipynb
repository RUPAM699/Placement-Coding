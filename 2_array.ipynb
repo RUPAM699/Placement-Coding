{
 "cells": [
  {
   "cell_type": "markdown",
   "metadata": {},
   "source": [
    "# maximum subarray problem (KADANE'S ALGORITHM)"
   ]
  },
  {
   "cell_type": "code",
   "execution_count": 2,
   "metadata": {},
   "outputs": [
    {
     "name": "stdout",
     "output_type": "stream",
     "text": [
      "max_subarray_sum : 6\n"
     ]
    }
   ],
   "source": [
    "def a1(arr):\n",
    "    max_sum = 0\n",
    "    cur_sum = 0 \n",
    "    for i in arr:\n",
    "        cur_sum = max(cur_sum+i,i)\n",
    "        max_sum = max(cur_sum,max_sum)\n",
    "    print(\"max_subarray_sum :\",max_sum)\n",
    "arr = [-2,1,-3,4,-1,2,1,-5,4]\n",
    "a1(arr)"
   ]
  },
  {
   "cell_type": "markdown",
   "metadata": {},
   "source": [
    "# next permutation\n",
    "\n",
    "# I/P : 1 2 3 6 5 4\n",
    "#     : 1 2 4 6 5 3\n",
    "# O/P : 1 2 4 3 5 6"
   ]
  },
  {
   "cell_type": "code",
   "execution_count": null,
   "metadata": {},
   "outputs": [
    {
     "name": "stdout",
     "output_type": "stream",
     "text": [
      "[1, 2, 4, 3, 5, 6]\n"
     ]
    }
   ],
   "source": [
    "def a2(arr):\n",
    "    i = len(arr)-2\n",
    "    \n",
    "    while(i>=0 and arr[i]>=arr[i+1]):\n",
    "        i-=1\n",
    "        \n",
    "    if i>=0:\n",
    "        j = len(arr)-1\n",
    "        \n",
    "        while(arr[j]<=arr[i]):\n",
    "            j-=1\n",
    "            \n",
    "        arr[i],arr[j] = arr[j],arr[i]\n",
    "        \n",
    "    arr[(i+1):] = arr[(i+1):][::-1]\n",
    "    print(arr)\n",
    "    \n",
    "\t\n",
    "arr = [1 ,2 ,3 ,6 ,5 ,4]\n",
    "a2(arr)\n"
   ]
  },
  {
   "cell_type": "markdown",
   "metadata": {},
   "source": [
    "# merge sorted array without extra-space"
   ]
  },
  {
   "cell_type": "code",
   "execution_count": 2,
   "metadata": {},
   "outputs": [
    {
     "name": "stdout",
     "output_type": "stream",
     "text": [
      "[1, 2, 2, 3, 5, 6]\n"
     ]
    }
   ],
   "source": [
    "def a3(arr1,m,arr2,n):\n",
    "    index = m+n-1\n",
    "    i = m-1\n",
    "    j = n-1\n",
    "    while(i>=0 and j>=0):\n",
    "        if(arr1[i]>=arr2[j]):\n",
    "            arr1[index] = arr1[i]\n",
    "            i-=1\n",
    "        else:\n",
    "            arr1[index] = arr2[j]\n",
    "            j-=1\n",
    "        index-=1\n",
    "    while(i<0):\n",
    "        arr1[index] = arr2[j]\n",
    "    print(arr1)\n",
    "        \n",
    "arr1 = [1,2,3,0,0,0]\n",
    "m = 3\n",
    "arr2 = [2,5,6]\n",
    "n = 3\n",
    "a3(arr1,m,arr2,n)"
   ]
  },
  {
   "cell_type": "markdown",
   "metadata": {},
   "source": [
    "# count invertions\n",
    "# "
   ]
  },
  {
   "cell_type": "code",
   "execution_count": 6,
   "metadata": {},
   "outputs": [
    {
     "name": "stdout",
     "output_type": "stream",
     "text": [
      "None\n"
     ]
    }
   ],
   "source": [
    "def a3(arr):\n",
    "    \n",
    "\tdef merge(arr,temp,left,mid,right):\n",
    "\t\ti=0\n",
    "\t\tj=0\n",
    "\t\tk=0\n",
    "\t\tinv_count = 0\n",
    "\t\twhile(i<=mid and j<=right):\n",
    "\t\t\tif(arr[i]<=arr[j]):\n",
    "\t\t\t\ttemp[k] = arr[i]\n",
    "\t\t\t\ti+=1\n",
    "\t\t\telse:\n",
    "\t\t\t\ttemp[k] = arr[j]\n",
    "\t\t\t\tj+=1\n",
    "\t\t\t\tinv_count += 1\n",
    "\t\twhile(i<=mid):\n",
    "\t\t\ttemp[k] = arr[j]\n",
    "\t\t\tj+=1\n",
    "\t\t\tk+=1\n",
    "\t\twhile(j<=right):\n",
    "\t\t\ttemp[k] = arr[j]\n",
    "\t\t\tj+=1\n",
    "\t\t\tk+=1\n",
    "\t\t\n",
    "\t\treturn inv_count\n",
    "\t\n",
    "\tdef merge_sort(arr,temp,left,right):\n",
    "\t\tif(left<right):\n",
    "\t\t\tmid = (left+right)//2\n",
    "\t\t\tinvertion_count = merge_sort(arr,temp,left,mid)\n",
    "\t\t\tinvertion_count += merge_sort(arr,temp,mid+1,right)\n",
    "\t\t\tinvertion_count += merge(arr,temp,left,mid,right)\n",
    "\t\t\treturn invertion_count\n",
    "\t\treturn 0\n",
    "\t\n",
    "\tmerge_sort(arr,[0]*len(arr),0,len(arr)-1)\n",
    "\n",
    "arr = [1, 20, 6, 4, 5]\n",
    "result = a3(arr)\n",
    "print(result)\n",
    "\n"
   ]
  },
  {
   "cell_type": "code",
   "execution_count": null,
   "metadata": {},
   "outputs": [],
   "source": []
  }
 ],
 "metadata": {
  "kernelspec": {
   "display_name": "Python 3",
   "language": "python",
   "name": "python3"
  },
  "language_info": {
   "codemirror_mode": {
    "name": "ipython",
    "version": 3
   },
   "file_extension": ".py",
   "mimetype": "text/x-python",
   "name": "python",
   "nbconvert_exporter": "python",
   "pygments_lexer": "ipython3",
   "version": "3.12.6"
  }
 },
 "nbformat": 4,
 "nbformat_minor": 2
}
