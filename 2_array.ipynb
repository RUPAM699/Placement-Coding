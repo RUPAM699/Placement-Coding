{
 "cells": [
  {
   "cell_type": "markdown",
   "metadata": {},
   "source": [
    "### **maximum subarray_sum problem (KADANE'S ALGORITHM)**"
   ]
  },
  {
   "cell_type": "code",
   "execution_count": null,
   "metadata": {},
   "outputs": [
    {
     "name": "stdout",
     "output_type": "stream",
     "text": [
      "max_subarray_sum : 6\n"
     ]
    }
   ],
   "source": [
    "def a1(arr):\n",
    "    max_sum = 0\n",
    "    cur_sum = 0\n",
    "    for i in arr:\n",
    "        cur_sum = max(cur_sum+i,i)\n",
    "        max_sum = max(cur_sum,max_sum)\n",
    "    print(\"max_subarray_sum :\",max_sum)\n",
    "arr = [-2,1,-3,4,-1,2,1,-5,4]\n",
    "a1(arr)"
   ]
  },
  {
   "cell_type": "markdown",
   "metadata": {},
   "source": [
    "### **next permutation**\n",
    "\n",
    "### I/P : 1 2 3 6 5 4\n",
    "###     : 1 2 4 6 5 3\n",
    "### O/P : 1 2 4 3 5 6"
   ]
  },
  {
   "cell_type": "code",
   "execution_count": null,
   "metadata": {},
   "outputs": [
    {
     "name": "stdout",
     "output_type": "stream",
     "text": [
      "[1, 2, 4, 3, 5, 6]\n"
     ]
    }
   ],
   "source": [
    "def a2(arr):\n",
    "    i = len(arr)-2\n",
    "    \n",
    "    while(i>=0 and arr[i]>=arr[i+1]):\n",
    "        i-=1\n",
    "        \n",
    "    if i>=0:\n",
    "        j = len(arr)-1\n",
    "        \n",
    "        while(arr[j]<=arr[i]):\n",
    "            j-=1\n",
    "            \n",
    "        arr[i],arr[j] = arr[j],arr[i]\n",
    "        \n",
    "    arr[(i+1):] = arr[(i+1):][::-1]\n",
    "    print(arr)\n",
    "    \n",
    "\t\n",
    "arr = [1 ,2 ,3 ,6 ,5 ,4]\n",
    "a2(arr)\n"
   ]
  },
  {
   "cell_type": "markdown",
   "metadata": {},
   "source": [
    "### **merge sorted array without extra-space**"
   ]
  },
  {
   "cell_type": "code",
   "execution_count": 2,
   "metadata": {},
   "outputs": [
    {
     "name": "stdout",
     "output_type": "stream",
     "text": [
      "[1, 2, 2, 3, 5, 6]\n"
     ]
    }
   ],
   "source": [
    "def a3(arr1,m,arr2,n):\n",
    "    index = m+n-1\n",
    "    i = m-1\n",
    "    j = n-1\n",
    "    while(i>=0 and j>=0):\n",
    "        if(arr1[i]>=arr2[j]):\n",
    "            arr1[index] = arr1[i]\n",
    "            i-=1\n",
    "        else:\n",
    "            arr1[index] = arr2[j]\n",
    "            j-=1\n",
    "        index-=1\n",
    "    while(i<0):\n",
    "        arr1[index] = arr2[j]\n",
    "    print(arr1)\n",
    "        \n",
    "arr1 = [1,2,3,0,0,0]\n",
    "m = 3\n",
    "arr2 = [2,5,6]\n",
    "n = 3\n",
    "a3(arr1,m,arr2,n)"
   ]
  },
  {
   "cell_type": "markdown",
   "metadata": {},
   "source": [
    "### **count invertions**\n",
    "#### [3, 1, 5, 2, 4]\n",
    "#### o/p : Inversion Pairs: [(3, 1), (3, 2), (5, 2), (5, 4)]\n",
    "#### Total Inversions Count: 4"
   ]
  },
  {
   "cell_type": "code",
   "execution_count": 8,
   "metadata": {},
   "outputs": [
    {
     "name": "stdout",
     "output_type": "stream",
     "text": [
      "Inversion Pairs: [(3, 1), (3, 2), (5, 2), (5, 4)]\n",
      "Total Inversions Count: 4\n"
     ]
    }
   ],
   "source": [
    "def merge_and_count(arr, temp_arr, left, mid, right, inversion_pairs):\n",
    "    i, j, k = left, mid + 1, left\n",
    "    inv_count = 0\n",
    "\n",
    "    while i <= mid and j <= right:\n",
    "        if arr[i] <= arr[j]:\n",
    "            temp_arr[k] = arr[i]\n",
    "            i += 1\n",
    "        else:\n",
    "            temp_arr[k] = arr[j]\n",
    "            for x in range(i, mid + 1):\n",
    "                inversion_pairs.append((arr[x], arr[j]))  \n",
    "            inv_count += (mid - i + 1)  \n",
    "            j += 1\n",
    "        k += 1\n",
    "\n",
    "    while i <= mid:\n",
    "        temp_arr[k] = arr[i]\n",
    "        i += 1\n",
    "        k += 1\n",
    "\n",
    "    while j <= right:\n",
    "        temp_arr[k] = arr[j]\n",
    "        j += 1\n",
    "        k += 1\n",
    "\n",
    "    for i in range(left, right + 1):\n",
    "        arr[i] = temp_arr[i]\n",
    "\n",
    "    return inv_count\n",
    "\n",
    "def merge_sort_and_count(arr, temp_arr, left, right, inversion_pairs):\n",
    "    inv_count = 0\n",
    "    if left < right:\n",
    "        mid = (left + right) // 2\n",
    "        inv_count += merge_sort_and_count(arr, temp_arr, left, mid, inversion_pairs)\n",
    "        inv_count += merge_sort_and_count(arr, temp_arr, mid + 1, right, inversion_pairs)\n",
    "        inv_count += merge_and_count(arr, temp_arr, left, mid, right, inversion_pairs)\n",
    "    return inv_count\n",
    "\n",
    "def count_inversions(arr):\n",
    "    temp_arr = arr.copy()\n",
    "    inversion_pairs = []  \n",
    "    total_inversions = merge_sort_and_count(arr, temp_arr, 0, len(arr) - 1, inversion_pairs)\n",
    "    print(\"Inversion Pairs:\", inversion_pairs)\n",
    "    return total_inversions\n",
    "\n",
    "arr = [3, 1, 5, 2, 4]\n",
    "print(\"Total Inversions Count:\", count_inversions(arr))\n"
   ]
  },
  {
   "cell_type": "markdown",
   "metadata": {},
   "source": [
    "###"
   ]
  },
  {
   "cell_type": "markdown",
   "metadata": {},
   "source": [
    "### **Subarray with given sum**\n",
    "\n",
    "#### arr = [1, 2, 3, 4, 2, 3, 7, 5, 1, 3, 2, 7, 5]\n",
    "#### target = 12\n",
    "#### o/p : [[2, 3, 7], [7, 5], [2, 3, 7]]"
   ]
  },
  {
   "cell_type": "code",
   "execution_count": null,
   "metadata": {},
   "outputs": [
    {
     "name": "stdout",
     "output_type": "stream",
     "text": [
      "[[2, 3, 7], [7, 5], [3, 2, 7], [7, 5]]\n"
     ]
    }
   ],
   "source": [
    "def find_subarrays_with_sum(arr, target):\n",
    "    n = len(arr)\n",
    "    prefix_sum = [0] * (n + 1)  \n",
    "\n",
    "    for i in range(1, n + 1):\n",
    "        prefix_sum[i] = prefix_sum[i - 1] + arr[i - 1]\n",
    "\n",
    "    subarrays = []\n",
    "    for start in range(n):\n",
    "        for end in range(start + 1, n + 1):\n",
    "            if prefix_sum[end] - prefix_sum[start] == target:\n",
    "                subarrays.append(arr[start:end])\n",
    "\n",
    "    return subarrays\n",
    "\n",
    "arr = [1, 2, -3, 4, 2, 3, 7, 5, 1, 3, 2, 7, 5]\n",
    "target = 12\n",
    "print(find_subarrays_with_sum(arr, target))\n"
   ]
  },
  {
   "cell_type": "markdown",
   "metadata": {},
   "source": [
    "### **Subarray with sum = 0**"
   ]
  },
  {
   "cell_type": "code",
   "execution_count": null,
   "metadata": {},
   "outputs": [
    {
     "name": "stdout",
     "output_type": "stream",
     "text": [
      "[[1, -1], [1, -1, 2, -2], [2, -2], [1, -1, 2, -2, 3, -3], [2, -2, 3, -3], [3, -3], [1, -1, 2, -2, 3, -3, 4, -4], [2, -2, 3, -3, 4, -4], [3, -3, 4, -4], [4, -4]]\n"
     ]
    }
   ],
   "source": [
    "def find_all_subarrays_with_sum_zero(arr):\n",
    "    prefix_sum = 0  \n",
    "    prefix_map = {0: [-1]}  \n",
    "    subarrays = []\n",
    "\n",
    "    for index, num in enumerate(arr):\n",
    "        prefix_sum += num\n",
    "        \n",
    "        if prefix_sum in prefix_map:\n",
    "            for start_index in prefix_map[prefix_sum]:\n",
    "                subarrays.append(arr[start_index + 1 : index + 1])\n",
    "       \n",
    "        if prefix_sum in prefix_map:\n",
    "            prefix_map[prefix_sum].append(index)\n",
    "        else:\n",
    "            prefix_map[prefix_sum] = [index]\n",
    "    \n",
    "    return subarrays\n",
    "\n",
    "arr = [1, -1, 2, -2, 3, -3, 4, -4]\n",
    "print(find_all_subarrays_with_sum_zero(arr))\n"
   ]
  },
  {
   "cell_type": "markdown",
   "metadata": {},
   "source": [
    "### **longest_subarray_with_sum_k**"
   ]
  },
  {
   "cell_type": "code",
   "execution_count": 17,
   "metadata": {},
   "outputs": [
    {
     "name": "stdout",
     "output_type": "stream",
     "text": [
      "[1, 2, 3, 4, 2]\n"
     ]
    }
   ],
   "source": [
    "def longest_subarray_with_sum_k(arr, target):\n",
    "    prefix_sum = 0\n",
    "    prefix_map = {0: -1}  \n",
    "    max_len = 0  \n",
    "    start_index = -1 \n",
    "\n",
    "    for index, num in enumerate(arr):\n",
    "        prefix_sum += num\n",
    "      \n",
    "        if prefix_sum - target in prefix_map:\n",
    "          \n",
    "            subarray_len = index - prefix_map[prefix_sum - target]\n",
    "            if subarray_len > max_len:\n",
    "                max_len = subarray_len\n",
    "                start_index = prefix_map[prefix_sum - target] + 1  \n",
    "\n",
    "        if prefix_sum not in prefix_map:\n",
    "            prefix_map[prefix_sum] = index\n",
    "    \n",
    "    if start_index != -1:\n",
    "        return arr[start_index:start_index + max_len]\n",
    "    return []\n",
    "\n",
    "arr = [1, 2, 3, 4, 2, 3, 7, 5, 1, 3, 2, 7, 5]\n",
    "target = 12\n",
    "print(longest_subarray_with_sum_k(arr, target))\n"
   ]
  },
  {
   "cell_type": "markdown",
   "metadata": {},
   "source": [
    "### **has_subarray_with_sum_zero**"
   ]
  },
  {
   "cell_type": "code",
   "execution_count": null,
   "metadata": {},
   "outputs": [
    {
     "name": "stdout",
     "output_type": "stream",
     "text": [
      "True\n"
     ]
    }
   ],
   "source": [
    "def has_subarray_with_sum_zero(arr):\n",
    "    prefix_sum = 0\n",
    "    prefix_sums = [0]  \n",
    "\n",
    "    for num in arr:\n",
    "        prefix_sum += num\n",
    "        \n",
    "        if prefix_sum in prefix_sums:\n",
    "            return True\n",
    "        \n",
    "        prefix_sums.append(prefix_sum)\n",
    "    \n",
    "    return False\n",
    "\n",
    "\n",
    "arr = [1, -1, 2, -2, 3]\n",
    "print(has_subarray_with_sum_zero(arr)) \n"
   ]
  },
  {
   "cell_type": "markdown",
   "metadata": {},
   "source": [
    "#### Longest common subsequence"
   ]
  },
  {
   "cell_type": "code",
   "execution_count": null,
   "metadata": {},
   "outputs": [
    {
     "name": "stdout",
     "output_type": "stream",
     "text": [
      "4\n"
     ]
    }
   ],
   "source": [
    "def lcsRec(s1, s2, m, n):\n",
    "    if m == 0 or n == 0:\n",
    "        return 0\n",
    "\n",
    "    if s1[m - 1] == s2[n - 1]:\n",
    "      \n",
    "        return 1 + lcsRec(s1, s2, m - 1, n - 1)\n",
    "\n",
    "    else:\n",
    "      \n",
    "        return max(lcsRec(s1, s2, m, n - 1), lcsRec(s1, s2, m - 1, n))\n",
    "\n",
    "\n",
    "\n",
    "s1 = \"AGGTAB\"\n",
    "s2 = \"GXTXAYB\"\n",
    "\n",
    "count = lcsRec(s1,s2,len(s1),len(s2))\n",
    "print(count)\n",
    "\n"
   ]
  },
  {
   "cell_type": "markdown",
   "metadata": {},
   "source": [
    "#### Fibonacci Sum"
   ]
  },
  {
   "cell_type": "code",
   "execution_count": 24,
   "metadata": {},
   "outputs": [
    {
     "name": "stdout",
     "output_type": "stream",
     "text": [
      "12\n"
     ]
    }
   ],
   "source": [
    "def fibo_sum(arr,tar,key):\n",
    "    arr.sort()\n",
    "    x = tar-arr[key-1]\n",
    "    fibo = [0]*(x+1)\n",
    "    fibo[0] = 0\n",
    "    fibo[1] = 1\n",
    "    sum = 1\n",
    "    for i in range(2,x+1):\n",
    "        fibo[i] = fibo[i-1]+fibo[i-2]\n",
    "        sum = sum+fibo[i]\n",
    "    print(sum)\n",
    "\n",
    "arr = [1,2,3,4,5]\n",
    "n = len(arr)\n",
    "tar = 10\n",
    "fibo_sum(arr,tar,n)"
   ]
  },
  {
   "cell_type": "markdown",
   "metadata": {},
   "source": [
    "#### **MAXIMUM_SUBARRAY_RETURN**"
   ]
  },
  {
   "cell_type": "code",
   "execution_count": 1,
   "metadata": {},
   "outputs": [
    {
     "name": "stdout",
     "output_type": "stream",
     "text": [
      "max_subarray_sum : 6\n"
     ]
    }
   ],
   "source": [
    "def a1(arr):\n",
    "    max_sum = 0\n",
    "    cur_sum = 0\n",
    "    for i in arr:\n",
    "        cur_sum = max(cur_sum+i,i)\n",
    "        max_sum = max(cur_sum,max_sum)\n",
    "    print(\"max_subarray_sum :\",max_sum)\n",
    "arr = [-2,1,-3,4,-1,2,1,-5,4]\n",
    "a1(arr)"
   ]
  },
  {
   "cell_type": "code",
   "execution_count": 9,
   "metadata": {},
   "outputs": [
    {
     "name": "stdout",
     "output_type": "stream",
     "text": [
      "[4, -1, 2, 1]\n"
     ]
    }
   ],
   "source": [
    "def a1(arr):\n",
    "    max_sum = float('-inf')\n",
    "    cur_sum = 0\n",
    "    start = end = s = 0\n",
    "\n",
    "    for i in range(len(arr)):\n",
    "        if cur_sum + arr[i] > arr[i]:\n",
    "            cur_sum += arr[i]\n",
    "        else:\n",
    "            cur_sum = arr[i]\n",
    "            s = i\n",
    "\n",
    "        if cur_sum > max_sum:\n",
    "            max_sum = cur_sum\n",
    "            start = s\n",
    "            end = i\n",
    "\n",
    "\n",
    "    print(arr[start:end+1])\n",
    "\n",
    "arr = [-2, 1, -3, 4, -1, 2, 1, -5, 4]\n",
    "a1(arr)"
   ]
  },
  {
   "cell_type": "code",
   "execution_count": null,
   "metadata": {},
   "outputs": [],
   "source": []
  }
 ],
 "metadata": {
  "kernelspec": {
   "display_name": "Python 3",
   "language": "python",
   "name": "python3"
  },
  "language_info": {
   "codemirror_mode": {
    "name": "ipython",
    "version": 3
   },
   "file_extension": ".py",
   "mimetype": "text/x-python",
   "name": "python",
   "nbconvert_exporter": "python",
   "pygments_lexer": "ipython3",
   "version": "3.12.6"
  }
 },
 "nbformat": 4,
 "nbformat_minor": 2
}
