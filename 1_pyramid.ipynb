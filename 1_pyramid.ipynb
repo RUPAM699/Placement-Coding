{
 "cells": [
  {
   "cell_type": "markdown",
   "metadata": {},
   "source": [
    "#\t\t\t\t\t\t\t\t\tSTAR-PATTERN"
   ]
  },
  {
   "cell_type": "markdown",
   "metadata": {},
   "source": [
    "# SQUARE"
   ]
  },
  {
   "cell_type": "code",
   "execution_count": 1,
   "metadata": {},
   "outputs": [
    {
     "name": "stdout",
     "output_type": "stream",
     "text": [
      "*****\n",
      "*****\n",
      "*****\n",
      "*****\n",
      "*****\n"
     ]
    }
   ],
   "source": [
    "def p1(n):\n",
    "    for i in range(1,n+1):\n",
    "        print(\"*\"*n)\n",
    "p1(5)"
   ]
  },
  {
   "cell_type": "markdown",
   "metadata": {},
   "source": [
    "# HOLLOW SQUARE"
   ]
  },
  {
   "cell_type": "code",
   "execution_count": 2,
   "metadata": {},
   "outputs": [
    {
     "name": "stdout",
     "output_type": "stream",
     "text": [
      "*****\n",
      "*   *\n",
      "*   *\n",
      "*   *\n",
      "*****\n"
     ]
    }
   ],
   "source": [
    "def p2(n):\n",
    "    for i in range(1,n+1):\n",
    "        if i==1 or i==n:\n",
    "            print(\"*\"*n)\n",
    "        else:\n",
    "            print(\"*\"+\" \"*(n-2)+\"*\")\n",
    "p2(5)"
   ]
  },
  {
   "cell_type": "markdown",
   "metadata": {},
   "source": [
    "# RIGHT-ANGLE TRIANGLE"
   ]
  },
  {
   "cell_type": "code",
   "execution_count": 3,
   "metadata": {},
   "outputs": [
    {
     "name": "stdout",
     "output_type": "stream",
     "text": [
      "*\n",
      "**\n",
      "***\n",
      "****\n",
      "*****\n"
     ]
    }
   ],
   "source": [
    "def p3(n):\n",
    "    for i in range(1,n+1):\n",
    "        print(\"*\"*i)\n",
    "p3(5)"
   ]
  },
  {
   "cell_type": "markdown",
   "metadata": {},
   "source": [
    "# LEFT-ANGLE TRIANGLE"
   ]
  },
  {
   "cell_type": "code",
   "execution_count": 6,
   "metadata": {},
   "outputs": [
    {
     "name": "stdout",
     "output_type": "stream",
     "text": [
      "    *\n",
      "   **\n",
      "  ***\n",
      " ****\n",
      "*****\n"
     ]
    }
   ],
   "source": [
    "def p4(n):\n",
    "    for i in range(1,n+1):\n",
    "        print(\" \"*(n-i)+\"*\"*i)\n",
    "p4(5)"
   ]
  },
  {
   "cell_type": "markdown",
   "metadata": {},
   "source": [
    "# INVERTED RIGHT-ANGLE TRIANGLE"
   ]
  },
  {
   "cell_type": "code",
   "execution_count": 7,
   "metadata": {},
   "outputs": [
    {
     "name": "stdout",
     "output_type": "stream",
     "text": [
      "*****\n",
      "****\n",
      "***\n",
      "**\n",
      "*\n"
     ]
    }
   ],
   "source": [
    "def p5(n):\n",
    "    for i in range(n,0,-1):\n",
    "        print(\"*\"*i)\n",
    "p5(5)"
   ]
  },
  {
   "cell_type": "markdown",
   "metadata": {},
   "source": [
    "# INVERTED LEFT-ANGLE TRIANGLE"
   ]
  },
  {
   "cell_type": "code",
   "execution_count": 9,
   "metadata": {},
   "outputs": [
    {
     "name": "stdout",
     "output_type": "stream",
     "text": [
      "*****\n",
      " ****\n",
      "  ***\n",
      "   **\n",
      "    *\n"
     ]
    }
   ],
   "source": [
    "def p6(n):\n",
    "    for i in range(n,0,-1):\n",
    "        print(\" \"*(n-i)+\"*\"*i)\n",
    "p6(5)"
   ]
  },
  {
   "cell_type": "markdown",
   "metadata": {},
   "source": [
    "# PYRAMID"
   ]
  },
  {
   "cell_type": "code",
   "execution_count": 18,
   "metadata": {},
   "outputs": [
    {
     "name": "stdout",
     "output_type": "stream",
     "text": [
      "    *\n",
      "   ***\n",
      "  *****\n",
      " *******\n",
      "*********\n"
     ]
    }
   ],
   "source": [
    "def p7(n):\n",
    "    for i in range (0,n):\n",
    "        print(\" \"*(n-i-1)+\"*\"*(2*i+1))\n",
    "p7(5)"
   ]
  },
  {
   "cell_type": "markdown",
   "metadata": {},
   "source": [
    "# INVERSE PYRAMID"
   ]
  },
  {
   "cell_type": "code",
   "execution_count": 26,
   "metadata": {},
   "outputs": [
    {
     "name": "stdout",
     "output_type": "stream",
     "text": [
      "*********\n",
      " *******\n",
      "  *****\n",
      "   ***\n",
      "    *\n"
     ]
    }
   ],
   "source": [
    "def p8(n):\n",
    "    for i in range(n,0,-1):\n",
    "        print(\" \"*(n-i)+\"*\"*(2*i-1))\n",
    "p8(5)"
   ]
  },
  {
   "cell_type": "markdown",
   "metadata": {},
   "source": [
    "# DIAMOND "
   ]
  },
  {
   "cell_type": "code",
   "execution_count": 31,
   "metadata": {},
   "outputs": [
    {
     "name": "stdout",
     "output_type": "stream",
     "text": [
      "    *\n",
      "   ***\n",
      "  *****\n",
      " *******\n",
      "*********\n",
      " *******\n",
      "  *****\n",
      "   ***\n",
      "    *\n"
     ]
    }
   ],
   "source": [
    "def p9(n):\n",
    "    for i in range(0,n):\n",
    "        print(\" \"*(n-i-1)+\"*\"*(2*i+1))\n",
    "    for i in range(n-1,0,-1):\n",
    "        print(\" \"*(n-i)+\"*\"*(2*i-1))\n",
    "p9(5)"
   ]
  },
  {
   "cell_type": "markdown",
   "metadata": {},
   "source": [
    "# HOLLOW DIAMOND"
   ]
  },
  {
   "cell_type": "code",
   "execution_count": 36,
   "metadata": {},
   "outputs": [
    {
     "name": "stdout",
     "output_type": "stream",
     "text": [
      "    *\n",
      "   * *\n",
      "  *   *\n",
      " *     *\n",
      "*       *\n",
      " *     *\n",
      "  *   *\n",
      "   * *\n",
      "    *\n"
     ]
    }
   ],
   "source": [
    "def p10(n):\n",
    "    for i in range(0,n):\n",
    "        if i == 0:\n",
    "            print(\" \"*(n-i-1)+\"*\"+\" \"*(2*i-1))\n",
    "        else:\n",
    "            print(\" \"*(n-i-1)+\"*\"+\" \"*(2*i-1)+\"*\")\n",
    "        \n",
    "    for i in range(n-1,0,-1):\n",
    "        if i==1:\n",
    "            print(\" \"*(n-i)+\"*\"+\" \"*(2*i-3))\n",
    "        else:\n",
    "            print(\" \"*(n-i)+\"*\"+\" \"*(2*i-3)+\"*\")\n",
    "        \n",
    "p10(5)"
   ]
  },
  {
   "cell_type": "markdown",
   "metadata": {},
   "source": [
    "# Hourglass "
   ]
  },
  {
   "cell_type": "code",
   "execution_count": 6,
   "metadata": {},
   "outputs": [
    {
     "name": "stdout",
     "output_type": "stream",
     "text": [
      "*********\n",
      " *******\n",
      "  *****\n",
      "   ***\n",
      "    *\n",
      "   ***\n",
      "  *****\n",
      " *******\n",
      "*********\n"
     ]
    }
   ],
   "source": [
    "def p11(n):\n",
    "    for i in range(n,0,-1):\n",
    "        print(\" \"*(n-i)+\"*\"*(2*i-1))\n",
    "    for i in range(1,n):\n",
    "        print(\" \"*(n-i-1)+\"*\"*(2*i+1))\n",
    "p11(5)"
   ]
  }
 ],
 "metadata": {
  "kernelspec": {
   "display_name": "Python 3",
   "language": "python",
   "name": "python3"
  },
  "language_info": {
   "codemirror_mode": {
    "name": "ipython",
    "version": 3
   },
   "file_extension": ".py",
   "mimetype": "text/x-python",
   "name": "python",
   "nbconvert_exporter": "python",
   "pygments_lexer": "ipython3",
   "version": "3.12.6"
  }
 },
 "nbformat": 4,
 "nbformat_minor": 2
}
