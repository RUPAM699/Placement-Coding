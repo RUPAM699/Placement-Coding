{
 "cells": [
  {
   "cell_type": "markdown",
   "metadata": {},
   "source": [
    "### selection_sort"
   ]
  },
  {
   "cell_type": "code",
   "execution_count": null,
   "metadata": {},
   "outputs": [
    {
     "name": "stdout",
     "output_type": "stream",
     "text": [
      "[1, 2, 3, 4, 5, 6]\n"
     ]
    }
   ],
   "source": [
    "def selection_sort(arr):\n",
    "\tn = len(arr)\n",
    "\tfor i in range(n-1):\n",
    "\t\tmin_indx = i\n",
    "\t\tfor j in range(i+1,n):\n",
    "\t\t\tif (arr[j]<arr[min_indx]):\n",
    "\t\t\t\tmin_indx = j\n",
    "\t\tarr[i],arr[min_indx] = arr[min_indx],arr[i]\n",
    "\tprint(arr)\n",
    "\t\n",
    "arr = [4,1,2,5,3,6]\n",
    "selection_sort(arr)"
   ]
  },
  {
   "cell_type": "markdown",
   "metadata": {},
   "source": [
    "### bubble_sort"
   ]
  },
  {
   "cell_type": "code",
   "execution_count": 1,
   "metadata": {},
   "outputs": [
    {
     "name": "stdout",
     "output_type": "stream",
     "text": [
      "[1, 2, 3, 4, 5, 6]\n"
     ]
    }
   ],
   "source": [
    "def bubble_sort(arr):\n",
    "    for i in range(len(arr)):\n",
    "        for j in range(len(arr)-i-1):\n",
    "            if(arr[j]>arr[j+1]):\n",
    "                temp = arr[j]\n",
    "                arr[j] = arr[j+1]\n",
    "                arr[j+1] = temp\n",
    "    print(arr)\n",
    "arr = [4,1,2,5,3,6]\n",
    "bubble_sort(arr)\n",
    "        "
   ]
  },
  {
   "cell_type": "markdown",
   "metadata": {},
   "source": [
    "### insertion_sort\n"
   ]
  },
  {
   "cell_type": "code",
   "execution_count": null,
   "metadata": {},
   "outputs": [],
   "source": []
  },
  {
   "cell_type": "code",
   "execution_count": null,
   "metadata": {},
   "outputs": [
    {
     "name": "stdout",
     "output_type": "stream",
     "text": [
      "The 4 th number in the sequence is: 3\n"
     ]
    }
   ],
   "source": [
    "def fibonacci(n):\n",
    "\ta, b = 1, 1\n",
    "\tfor _ in range(n - 1):\n",
    "\t\ta, b = b, a + b\n",
    "\treturn a\n",
    "\n",
    "def is_prime(num):\n",
    "\tif num < 2:\n",
    "\t\treturn False\n",
    "\tfor i in range(2, int(num ** 0.5) + 1):\n",
    "\t\tif num % i == 0:\n",
    "\t\t\treturn False\n",
    "\treturn True\n",
    "\n",
    "def nth_prime(n):\n",
    "\tcount, num = 0, 1\n",
    "\twhile count < n:\n",
    "\t\tnum += 1\n",
    "\t\tif is_prime(num):\n",
    "\t\t\tcount += 1\n",
    "\treturn num\n",
    "\n",
    "def find_nth_number(n):\n",
    "\tif n % 2 == 1:\n",
    "\t\t\n",
    "\t\treturn fibonacci((n + 1) // 2)\n",
    "\telse:\n",
    "\t\t\n",
    "\t\treturn nth_prime(n // 2)\n",
    "\n",
    "\n",
    "n = int(input(\"Enter n: \"))\n",
    "print(\"The\", n, \"th number in the sequence is:\", find_nth_number(n))\n"
   ]
  },
  {
   "cell_type": "code",
   "execution_count": null,
   "metadata": {},
   "outputs": [],
   "source": []
  },
  {
   "cell_type": "markdown",
   "metadata": {},
   "source": []
  },
  {
   "cell_type": "markdown",
   "metadata": {},
   "source": [
    "# Sort an array based on the frequency of elements "
   ]
  },
  {
   "cell_type": "code",
   "execution_count": 2,
   "metadata": {},
   "outputs": [
    {
     "name": "stdout",
     "output_type": "stream",
     "text": [
      "[6, 5, 5, 3, 3, 3, 4, 4, 4]\n"
     ]
    }
   ],
   "source": [
    "def sort_frequency(arr):\n",
    "    freq = {}\n",
    "    for num in arr:\n",
    "        if num in freq:\n",
    "            freq[num]+=1\n",
    "        else:\n",
    "            freq[num] = 1\n",
    "    arr.sort(key=lambda x :(freq[x],x))\n",
    "    print(arr)\n",
    "\n",
    "arr = [4, 5, 6, 5, 4, 3, 3, 3, 4]\n",
    "sort_frequency(arr)  "
   ]
  },
  {
   "cell_type": "markdown",
   "metadata": {},
   "source": []
  },
  {
   "cell_type": "markdown",
   "metadata": {},
   "source": [
    "# 1->2->3->4->5->6->None\n",
    "\n",
    "# [[1 2]\n",
    "#  [3 4]\n",
    "#  [5 6]]"
   ]
  },
  {
   "cell_type": "code",
   "execution_count": 20,
   "metadata": {},
   "outputs": [
    {
     "name": "stdout",
     "output_type": "stream",
     "text": [
      "[[10, 20], [30, 40], [50, 60]]\n"
     ]
    }
   ],
   "source": [
    "class Node:\n",
    "    def __init__(self, data):\n",
    "        self.data = data\n",
    "        self.next = None\n",
    "\n",
    "class linkedlist():\n",
    "    def __init__(self):\n",
    "        self.head = None\n",
    "\n",
    "    def insert(self, data):\n",
    "        new_node = Node(data)\n",
    "        if not self.head:\n",
    "            self.head = new_node\n",
    "            return\n",
    "        temp = self.head\n",
    "        while temp.next:\n",
    "            temp = temp.next\n",
    "        temp.next = new_node\n",
    "        \n",
    "    def mat(self):\n",
    "        temp = self.head\n",
    "        m = []\n",
    "        for i in range(3):\n",
    "            r = []\n",
    "            for j in range(2):\n",
    "                val = temp.data\n",
    "                r.append((val))\n",
    "                temp = temp.next\n",
    "            m.append(r)\n",
    "        print(m)\n",
    "\n",
    "ll = linkedlist()\n",
    "ll.insert(10)\n",
    "ll.insert(20)\n",
    "ll.insert(30)\n",
    "ll.insert(40)\n",
    "ll.insert(50)\n",
    "ll.insert(60)\n",
    "ll.mat()"
   ]
  },
  {
   "cell_type": "code",
   "execution_count": null,
   "metadata": {},
   "outputs": [],
   "source": []
  }
 ],
 "metadata": {
  "kernelspec": {
   "display_name": "Python 3",
   "language": "python",
   "name": "python3"
  },
  "language_info": {
   "codemirror_mode": {
    "name": "ipython",
    "version": 3
   },
   "file_extension": ".py",
   "mimetype": "text/x-python",
   "name": "python",
   "nbconvert_exporter": "python",
   "pygments_lexer": "ipython3",
   "version": "3.12.6"
  }
 },
 "nbformat": 4,
 "nbformat_minor": 2
}
